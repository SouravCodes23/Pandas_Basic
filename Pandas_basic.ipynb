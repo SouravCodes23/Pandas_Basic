{
 "cells": [
  {
   "cell_type": "code",
   "execution_count": 1,
   "id": "cb2a0f66-bfb3-439c-b60b-fdb4a33e5428",
   "metadata": {},
   "outputs": [],
   "source": [
    "#Q1. Create a Pandas Series that contains the following data: 4, 8, 15, 16, 23, and 42. Then, print the series."
   ]
  },
  {
   "cell_type": "code",
   "execution_count": 2,
   "id": "a2f21f04-630d-48da-99fa-9f6813ef126d",
   "metadata": {},
   "outputs": [
    {
     "data": {
      "text/plain": [
       "0     4\n",
       "1     8\n",
       "2    15\n",
       "3    16\n",
       "4    23\n",
       "5    42\n",
       "dtype: int64"
      ]
     },
     "execution_count": 2,
     "metadata": {},
     "output_type": "execute_result"
    }
   ],
   "source": [
    "import pandas as pd\n",
    "data = [4,8,15,16,23,42]\n",
    "series = pd.Series(data)\n",
    "series"
   ]
  },
  {
   "cell_type": "code",
   "execution_count": 3,
   "id": "18235955-72ba-496c-92fa-c09e9ec049f4",
   "metadata": {},
   "outputs": [],
   "source": [
    "#Q2. Create a variable of list type containing 10 elements in it, and apply pandas.Series function on the\n",
    "#variable print it."
   ]
  },
  {
   "cell_type": "code",
   "execution_count": 4,
   "id": "468fd228-837d-432b-996f-e901f79aa132",
   "metadata": {},
   "outputs": [
    {
     "data": {
      "text/plain": [
       "0     1\n",
       "1     4\n",
       "2     9\n",
       "3    10\n",
       "4    23\n",
       "5    45\n",
       "6    76\n",
       "7    89\n",
       "8    12\n",
       "9    98\n",
       "dtype: int64"
      ]
     },
     "execution_count": 4,
     "metadata": {},
     "output_type": "execute_result"
    }
   ],
   "source": [
    "list = [1,4,9,10,23,45,76,89,12,98]\n",
    "series = pd.Series(list)\n",
    "series\n",
    "                  "
   ]
  },
  {
   "cell_type": "code",
   "execution_count": 5,
   "id": "2ea812d7-04a1-4051-b938-5b53095cfe8e",
   "metadata": {},
   "outputs": [],
   "source": [
    "#Q3. Create a Pandas DataFrame that contains the following data:\n",
    "#Then, print the DataFrame"
   ]
  },
  {
   "cell_type": "code",
   "execution_count": 6,
   "id": "0e4ed6df-62c4-427d-9788-dc436a469fd0",
   "metadata": {},
   "outputs": [
    {
     "data": {
      "text/html": [
       "<div>\n",
       "<style scoped>\n",
       "    .dataframe tbody tr th:only-of-type {\n",
       "        vertical-align: middle;\n",
       "    }\n",
       "\n",
       "    .dataframe tbody tr th {\n",
       "        vertical-align: top;\n",
       "    }\n",
       "\n",
       "    .dataframe thead th {\n",
       "        text-align: right;\n",
       "    }\n",
       "</style>\n",
       "<table border=\"1\" class=\"dataframe\">\n",
       "  <thead>\n",
       "    <tr style=\"text-align: right;\">\n",
       "      <th></th>\n",
       "      <th>Name</th>\n",
       "      <th>Age</th>\n",
       "      <th>Gender</th>\n",
       "    </tr>\n",
       "  </thead>\n",
       "  <tbody>\n",
       "    <tr>\n",
       "      <th>0</th>\n",
       "      <td>Alice</td>\n",
       "      <td>25</td>\n",
       "      <td>Female</td>\n",
       "    </tr>\n",
       "    <tr>\n",
       "      <th>1</th>\n",
       "      <td>Bob</td>\n",
       "      <td>30</td>\n",
       "      <td>Male</td>\n",
       "    </tr>\n",
       "    <tr>\n",
       "      <th>2</th>\n",
       "      <td>Claire</td>\n",
       "      <td>27</td>\n",
       "      <td>Female</td>\n",
       "    </tr>\n",
       "  </tbody>\n",
       "</table>\n",
       "</div>"
      ],
      "text/plain": [
       "    Name   Age  Gender\n",
       "0   Alice   25  Female\n",
       "1     Bob   30    Male\n",
       "2  Claire   27  Female"
      ]
     },
     "execution_count": 6,
     "metadata": {},
     "output_type": "execute_result"
    }
   ],
   "source": [
    "data = {'Name ':['Alice','Bob','Claire'],\n",
    "        'Age':[25,30,27],\n",
    "        'Gender':['Female','Male','Female']\n",
    "       }\n",
    "df = pd.DataFrame(data)\n",
    "\n",
    "df"
   ]
  },
  {
   "cell_type": "code",
   "execution_count": 7,
   "id": "8d242d4d-4b08-4ba9-88ca-bc5543a2f514",
   "metadata": {},
   "outputs": [],
   "source": [
    "# 4. What is ‘DataFrame’ in pandas and how is it different from pandas.series? Explain with an example."
   ]
  },
  {
   "cell_type": "markdown",
   "id": "faad3b48-da5e-4f12-82c7-9b4d96147a95",
   "metadata": {},
   "source": [
    "A Pandas DataFrame is a two-dimensional labeled data structure with columns of potentially different types. A DataFrame can be thought of as a collection of Series objects.\n",
    "On the other hand, a Pandas Series is a one-dimensional labeled array capable of holding any data type . \n"
   ]
  },
  {
   "cell_type": "code",
   "execution_count": 8,
   "id": "748d3cb1-a488-4acb-b2ee-42054b5f880c",
   "metadata": {},
   "outputs": [
    {
     "name": "stdout",
     "output_type": "stream",
     "text": [
      "a    1\n",
      "b    2\n",
      "c    3\n",
      "d    4\n",
      "e    5\n",
      "dtype: int64\n",
      "   A  B  C\n",
      "a  1  4  7\n",
      "b  2  5  8\n",
      "c  3  6  9\n"
     ]
    }
   ],
   "source": [
    "import pandas as pd\n",
    "series = pd.Series([1, 2, 3, 4, 5], index=['a', 'b', 'c', 'd', 'e'])\n",
    "print(series)\n",
    "\n",
    "data = {'A': [1, 2, 3], 'B': [4, 5, 6], 'C': [7, 8, 9]}\n",
    "df = pd.DataFrame(data, index=['a', 'b', 'c'])\n",
    "print(df)"
   ]
  },
  {
   "cell_type": "markdown",
   "id": "1e21c44b-b734-4c8d-810f-eb483136b792",
   "metadata": {},
   "source": [
    "Q5. What are some common functions you can use to manipulate data in a Pandas DataFrame? Can\n",
    "you give an example of when you might use one of these functions?"
   ]
  },
  {
   "cell_type": "markdown",
   "id": "59f48008-0f86-4466-967d-0e0934652b16",
   "metadata": {},
   "source": [
    "some common functions use to manupulate the data in pandas Dataframe is merge(),groupby(),drop(),filter(),pivot_table() function\n"
   ]
  },
  {
   "cell_type": "code",
   "execution_count": 11,
   "id": "44e6d388-54ea-4d58-ae7a-66067b7eaee9",
   "metadata": {},
   "outputs": [
    {
     "name": "stdout",
     "output_type": "stream",
     "text": [
      "     Name  Age  Score\n",
      "2  Claire   27     95\n"
     ]
    }
   ],
   "source": [
    "import pandas as pd\n",
    "\n",
    "data = {'Name': ['Alice', 'Bob', 'Claire', 'Alice'],\n",
    "        'Age': [25, 30, 27, 25],\n",
    "        'Score': [90, 80, 95, 85]}\n",
    "\n",
    "df = pd.DataFrame(data)\n",
    "\n",
    "\n",
    "df.drop_duplicates(inplace=True)\n",
    "\n",
    "filtered_df = df[df['Score'] > 90]\n",
    "\n",
    "print(filtered_df)"
   ]
  },
  {
   "cell_type": "markdown",
   "id": "723f6958-c864-4745-bf77-d31edf6e35aa",
   "metadata": {},
   "source": [
    "Q6. Which of the following is mutable in nature Series, DataFrame, Panel?\n",
    "\n"
   ]
  },
  {
   "cell_type": "markdown",
   "id": "44cd3d42-0b8f-4f24-8a20-2215af5c986d",
   "metadata": {},
   "source": [
    "All three, Series, DataFrame, and Panel, are mutable in nature. This means that their contents can be modified after creation."
   ]
  },
  {
   "cell_type": "markdown",
   "id": "7dc6dfbb-f797-40b7-b24d-19cafec3878f",
   "metadata": {},
   "source": [
    "Q7. Create a DataFrame using multiple Series. Explain with an example"
   ]
  },
  {
   "cell_type": "code",
   "execution_count": 12,
   "id": "34425e70-1679-42f0-b500-a0a2a55f99e7",
   "metadata": {},
   "outputs": [
    {
     "name": "stdout",
     "output_type": "stream",
     "text": [
      "     Name  Age  Gender\n",
      "0   Alice   25  Female\n",
      "1     Bob   30    Male\n",
      "2  Claire   27  Female\n"
     ]
    }
   ],
   "source": [
    "import pandas as pd\n",
    "\n",
    "name_series = pd.Series(['Alice', 'Bob', 'Claire'], name='Name')\n",
    "age_series = pd.Series([25, 30, 27], name='Age')\n",
    "gender_series = pd.Series(['Female', 'Male', 'Female'], name='Gender')\n",
    "\n",
    "df = pd.DataFrame({'Name': name_series, 'Age': age_series, 'Gender': gender_series})\n",
    "\n",
    "print(df)"
   ]
  },
  {
   "cell_type": "code",
   "execution_count": null,
   "id": "66c5adc2-1fe8-4231-8f94-6f01696a7e80",
   "metadata": {},
   "outputs": [],
   "source": []
  }
 ],
 "metadata": {
  "kernelspec": {
   "display_name": "Python 3 (ipykernel)",
   "language": "python",
   "name": "python3"
  },
  "language_info": {
   "codemirror_mode": {
    "name": "ipython",
    "version": 3
   },
   "file_extension": ".py",
   "mimetype": "text/x-python",
   "name": "python",
   "nbconvert_exporter": "python",
   "pygments_lexer": "ipython3",
   "version": "3.12.6"
  }
 },
 "nbformat": 4,
 "nbformat_minor": 5
}
